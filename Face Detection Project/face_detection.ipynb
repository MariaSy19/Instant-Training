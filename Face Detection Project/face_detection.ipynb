{
 "cells": [
  {
   "cell_type": "markdown",
   "metadata": {},
   "source": [
    "## Import libraries"
   ]
  },
  {
   "cell_type": "code",
   "execution_count": 1,
   "metadata": {},
   "outputs": [],
   "source": [
    "import cv2\n",
    "import face_recognition\n",
    "import numpy as np\n",
    "import os"
   ]
  },
  {
   "cell_type": "markdown",
   "metadata": {},
   "source": [
    "## Load Known Faces and Their Encodings"
   ]
  },
  {
   "cell_type": "code",
   "execution_count": 2,
   "metadata": {},
   "outputs": [],
   "source": [
    "def load_known_faces(known_faces_folder):\n",
    "    known_encodings = []\n",
    "    known_names = []\n",
    "    \n",
    "    for person_name in os.listdir(known_faces_folder):\n",
    "        person_folder = os.path.join(known_faces_folder, person_name)\n",
    "        for img_name in os.listdir(person_folder):\n",
    "            img_path = os.path.join(person_folder, img_name)\n",
    "            img = face_recognition.load_image_file(img_path)\n",
    "            encoding = face_recognition.face_encodings(img)\n",
    "            if encoding:\n",
    "                known_encodings.append(encoding[0])\n",
    "                known_names.append(person_name)\n",
    "    \n",
    "    return known_encodings, known_names"
   ]
  },
  {
   "cell_type": "markdown",
   "metadata": {},
   "source": [
    "## Detect and Recognize Faces in an Image"
   ]
  },
  {
   "cell_type": "code",
   "execution_count": 3,
   "metadata": {},
   "outputs": [],
   "source": [
    "\n",
    "def detect_and_recognize_faces(image_path, known_encodings, known_names):\n",
    "    # Load the image\n",
    "    img = face_recognition.load_image_file(image_path)\n",
    "    img_rgb = cv2.cvtColor(img, cv2.COLOR_RGB2BGR)\n",
    "    \n",
    "    # Find all face locations and encodings in the image\n",
    "    face_locations = face_recognition.face_locations(img)\n",
    "    face_encodings = face_recognition.face_encodings(img, face_locations)\n",
    "    \n",
    "    # Draw boxes around detected faces and add names\n",
    "    for (top, right, bottom, left), face_encoding in zip(face_locations, face_encodings):\n",
    "        matches = face_recognition.compare_faces(known_encodings, face_encoding)\n",
    "        name = \"Unknown\"\n",
    "        \n",
    "        # Check if we have a match\n",
    "        if True in matches:\n",
    "            first_match_index = matches.index(True)\n",
    "            name = known_names[first_match_index]\n",
    "        \n",
    "        # Draw a rectangle around the face\n",
    "        cv2.rectangle(img_rgb, (left, top), (right, bottom), (0, 0, 255), 2)\n",
    "        font = cv2.FONT_HERSHEY_DUPLEX\n",
    "        cv2.putText(img_rgb, name, (left + 6, bottom - 6), font, 0.5, (255, 255, 255), 1)\n",
    "    \n",
    "    return img_rgb"
   ]
  },
  {
   "cell_type": "markdown",
   "metadata": {},
   "source": [
    "## Main Execution"
   ]
  },
  {
   "cell_type": "code",
   "execution_count": 10,
   "metadata": {},
   "outputs": [],
   "source": [
    "known_faces_folder = 'Celebrity Faces Dataset'  # Update with the path to your folder containing known faces\n",
    "known_encodings, known_names = load_known_faces(known_faces_folder)\n"
   ]
  },
  {
   "cell_type": "code",
   "execution_count": 13,
   "metadata": {},
   "outputs": [],
   "source": [
    "# Detect and recognize faces in a test image\n",
    "test_image_path = 'img (29).jpg'\n",
    "result_image = detect_and_recognize_faces(test_image_path, known_encodings, known_names)"
   ]
  },
  {
   "cell_type": "code",
   "execution_count": 14,
   "metadata": {},
   "outputs": [],
   "source": [
    "# Show the resulting image\n",
    "cv2.imshow('Detected Faces', result_image)\n",
    "cv2.waitKey(0)\n",
    "cv2.destroyAllWindows()"
   ]
  }
 ],
 "metadata": {
  "kernelspec": {
   "display_name": "Python 3 (ipykernel)",
   "language": "python",
   "name": "python3"
  },
  "language_info": {
   "codemirror_mode": {
    "name": "ipython",
    "version": 3
   },
   "file_extension": ".py",
   "mimetype": "text/x-python",
   "name": "python",
   "nbconvert_exporter": "python",
   "pygments_lexer": "ipython3",
   "version": "3.12.1"
  }
 },
 "nbformat": 4,
 "nbformat_minor": 2
}
